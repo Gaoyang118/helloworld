{
 "cells": [
  {
   "cell_type": "markdown",
   "metadata": {},
   "source": [
    "基本数据类型演示"
   ]
  },
  {
   "cell_type": "code",
   "execution_count": 2,
   "metadata": {},
   "outputs": [
    {
     "name": "stdout",
     "output_type": "stream",
     "text": [
      "整数: 10, 浮点数: 3.14\n"
     ]
    }
   ],
   "source": [
    "x = 10          # 整数\n",
    "y = 3.14        # 浮点数\n",
    "print(f\"整数: {x}, 浮点数: {y}\")"
   ]
  },
  {
   "cell_type": "markdown",
   "metadata": {},
   "source": [
    "print用法"
   ]
  },
  {
   "cell_type": "code",
   "execution_count": 3,
   "metadata": {},
   "outputs": [
    {
     "name": "stdout",
     "output_type": "stream",
     "text": [
      "10 + 3.14 = 13.14\n",
      "浮点数3.14\n",
      "整数 10\n",
      "整数**10***********"
     ]
    }
   ],
   "source": [
    "print(f\"{x} + {y} = {x + y}\")\n",
    "print(\"浮点数\"+str(y))\n",
    "print(\"整数\",x)\n",
    "print(\"整数\",x,sep=\"**\",end=\"***********\")"
   ]
  },
  {
   "cell_type": "markdown",
   "metadata": {},
   "source": [
    "简单的数学运算"
   ]
  },
  {
   "cell_type": "code",
   "execution_count": 4,
   "metadata": {},
   "outputs": [
    {
     "name": "stdout",
     "output_type": "stream",
     "text": [
      "加法: 13.14\n",
      "乘法: 31.400000000000002\n"
     ]
    }
   ],
   "source": [
    "print(f\"加法: {x + y}\")\n",
    "print(f\"乘法: {x * y}\")"
   ]
  },
  {
   "cell_type": "code",
   "execution_count": 5,
   "metadata": {},
   "outputs": [
    {
     "data": {
      "text/plain": [
       "3.184713375796178"
      ]
     },
     "execution_count": 5,
     "metadata": {},
     "output_type": "execute_result"
    }
   ],
   "source": [
    "z = x / y       # 除法\n",
    "z"
   ]
  },
  {
   "cell_type": "markdown",
   "metadata": {},
   "source": [
    "字符串"
   ]
  },
  {
   "cell_type": "code",
   "execution_count": 6,
   "metadata": {},
   "outputs": [
    {
     "name": "stdout",
     "output_type": "stream",
     "text": [
      "字符串: Hello, Data Science!\n",
      "字符串长度: 20\n",
      "转换为大写: HELLO, DATA SCIENCE!\n",
      "转换为小写: hello, data science!\n"
     ]
    }
   ],
   "source": [
    "text = \"Hello, Data Science!\"\n",
    "print(f\"字符串: {text}\")\n",
    "print(f\"字符串长度: {len(text)}\")\n",
    "print(f\"转换为大写: {text.upper()}\")\n",
    "print(f\"转换为小写: {text.lower()}\")"
   ]
  },
  {
   "cell_type": "markdown",
   "metadata": {},
   "source": [
    "简单操作"
   ]
  },
  {
   "cell_type": "code",
   "execution_count": 26,
   "metadata": {},
   "outputs": [
    {
     "data": {
      "text/plain": [
       "'Hi, Data Science!'"
      ]
     },
     "execution_count": 26,
     "metadata": {},
     "output_type": "execute_result"
    }
   ],
   "source": [
    "text.replace(\"Hello\",\"Hi\")"
   ]
  },
  {
   "cell_type": "code",
   "execution_count": 25,
   "metadata": {},
   "outputs": [
    {
     "data": {
      "text/plain": [
       "['Hello, ', 'ata Science!']"
      ]
     },
     "execution_count": 25,
     "metadata": {},
     "output_type": "execute_result"
    }
   ],
   "source": [
    "text.split(\"D\")"
   ]
  },
  {
   "cell_type": "markdown",
   "metadata": {},
   "source": [
    "列表"
   ]
  },
  {
   "cell_type": "code",
   "execution_count": 27,
   "metadata": {},
   "outputs": [
    {
     "name": "stdout",
     "output_type": "stream",
     "text": [
      "数字列表: [1, 2, 3, 4, 5]\n",
      "混合列表: [1, 'two', 3.0, (4, 5)]\n"
     ]
    }
   ],
   "source": [
    "numbers = [1, 2, 3, 4, 5]\n",
    "mixed = [1, \"two\", 3.0, (4, 5)]  # 列表可以包含不同类型的数据\n",
    "print(f\"数字列表: {numbers}\")\n",
    "print(f\"混合列表: {mixed}\")"
   ]
  },
  {
   "cell_type": "markdown",
   "metadata": {},
   "source": [
    "切片"
   ]
  },
  {
   "cell_type": "markdown",
   "metadata": {},
   "source": [
    "字符串切片"
   ]
  },
  {
   "cell_type": "code",
   "execution_count": 76,
   "metadata": {},
   "outputs": [
    {
     "data": {
      "text/plain": [
       "'ell'"
      ]
     },
     "execution_count": 76,
     "metadata": {},
     "output_type": "execute_result"
    }
   ],
   "source": [
    "text[0:5]\n",
    "text[1:4]"
   ]
  },
  {
   "cell_type": "code",
   "execution_count": 103,
   "metadata": {},
   "outputs": [
    {
     "name": "stdout",
     "output_type": "stream",
     "text": [
      "原始列表: [0, 1, 2, 3, 4, 5, 6, 7, 8, 9]\n"
     ]
    }
   ],
   "source": [
    "numbers = [0, 1, 2, 3, 4, 5, 6, 7, 8, 9]\n",
    "print(f\"原始列表: {numbers}\")\n"
   ]
  },
  {
   "cell_type": "code",
   "execution_count": 104,
   "metadata": {},
   "outputs": [
    {
     "name": "stdout",
     "output_type": "stream",
     "text": [
      "前三个元素 [0:3]: [0, 1, 2]\n",
      "第2个到第5个 [2:6]: [2, 3, 4, 5]\n"
     ]
    }
   ],
   "source": [
    "print(f\"前三个元素 [0:3]: {numbers[0:3]}\")\n",
    "print(f\"第2个到第5个 [2:6]: {numbers[2:6]}\")"
   ]
  },
  {
   "cell_type": "code",
   "execution_count": 105,
   "metadata": {},
   "outputs": [
    {
     "name": "stdout",
     "output_type": "stream",
     "text": [
      "最后三个元素 [-3:]: [7, 8, 9]\n",
      "除了最后两个的所有元素 [:-2]: [0, 1, 2, 3, 4, 5, 6, 7]\n"
     ]
    }
   ],
   "source": [
    "print(f\"最后三个元素 [-3:]: {numbers[-3:]}\")\n",
    "print(f\"除了最后两个的所有元素 [:-2]: {numbers[:-2]}\")"
   ]
  },
  {
   "cell_type": "code",
   "execution_count": 106,
   "metadata": {},
   "outputs": [
    {
     "name": "stdout",
     "output_type": "stream",
     "text": [
      "每隔两个取一个 [::2]: [0, 2, 4, 6, 8]\n",
      "反转列表 [::-1]: [9, 8, 7, 6, 5, 4, 3, 2, 1, 0]\n"
     ]
    }
   ],
   "source": [
    "print(f\"每隔两个取一个 [::2]: {numbers[::2]}\")\n",
    "print(f\"反转列表 [::-1]: {numbers[::-1]}\")"
   ]
  },
  {
   "cell_type": "code",
   "execution_count": 107,
   "metadata": {},
   "outputs": [
    {
     "name": "stdout",
     "output_type": "stream",
     "text": [
      "数据前半部分: [10, 20, 30, 40]\n",
      "数据后半部分: [50, 60, 70, 80, 90]\n"
     ]
    }
   ],
   "source": [
    "# 4. 实际应用示例\n",
    "data = [10, 20, 30, 40, 50, 60, 70, 80, 90]\n",
    "# 获取前半部分数据\n",
    "first_half = data[:len(data)//2]\n",
    "# 获取后半部分数据\n",
    "second_half = data[len(data)//2:]\n",
    "print(f\"数据前半部分: {first_half}\")\n",
    "print(f\"数据后半部分: {second_half}\")"
   ]
  },
  {
   "cell_type": "markdown",
   "metadata": {},
   "source": [
    "字典"
   ]
  },
  {
   "cell_type": "code",
   "execution_count": 28,
   "metadata": {},
   "outputs": [],
   "source": [
    "# 创建一个表示数据集的字典\n",
    "dataset = {\n",
    "    \"name\": \"房价预测数据集\",\n",
    "    \"features\": [\"面积\", \"位置\", \"年份\",\"价格\"],\n",
    "    \"samples\": 1000,\n",
    "    \"statistics\": {\n",
    "        \"mean\": 500,\n",
    "        \"std\": 100\n",
    "    }\n",
    "}"
   ]
  },
  {
   "cell_type": "code",
   "execution_count": 31,
   "metadata": {},
   "outputs": [
    {
     "name": "stdout",
     "output_type": "stream",
     "text": [
      "数据集名称: 房价预测数据集\n",
      "特征列表: ['面积', '位置', '年份', '价格']\n",
      "样本情况：1000\n",
      "数据特征提取：{'mean': 500, 'std': 100}\n"
     ]
    }
   ],
   "source": [
    "# 访问和修改字典\n",
    "print(f\"数据集名称: {dataset['name']}\")\n",
    "print(f\"特征列表: {dataset['features']}\")\n",
    "print(f\"样本情况：{dataset['samples']}\")\n",
    "print(f\"数据特征提取：{dataset['statistics']}\")"
   ]
  },
  {
   "cell_type": "code",
   "execution_count": 34,
   "metadata": {},
   "outputs": [
    {
     "name": "stdout",
     "output_type": "stream",
     "text": [
      "更新后的数据集信息: 2024-01-01\n"
     ]
    }
   ],
   "source": [
    "# 添加新信息\n",
    "dataset['date'] = '2024-01-01'\n",
    "dataset['price']='unknown'\n",
    "print(f\"更新后的数据集信息: {dataset['date']}\")"
   ]
  },
  {
   "cell_type": "markdown",
   "metadata": {},
   "source": [
    "类型转化\n"
   ]
  },
  {
   "cell_type": "code",
   "execution_count": 111,
   "metadata": {},
   "outputs": [
    {
     "name": "stdout",
     "output_type": "stream",
     "text": [
      "数字 42 转换为字符串: 42, 类型: <class 'str'>\n"
     ]
    }
   ],
   "source": [
    "# 基本类型转换\n",
    "# 数字转字符串\n",
    "number = 42\n",
    "text = str(number)\n",
    "print(f\"数字 {number} 转换为字符串: {text}, 类型: {type(text)}\")"
   ]
  },
  {
   "cell_type": "code",
   "execution_count": 37,
   "metadata": {},
   "outputs": [
    {
     "name": "stdout",
     "output_type": "stream",
     "text": [
      "字符串 3.14 转换为浮点数: 3.14, 类型: <class 'float'>\n",
      "浮点数 3.14,转换为字符串：3.14,类型：<class 'str'>\n"
     ]
    }
   ],
   "source": [
    "# 字符串转数字\n",
    "text_number = \"3.14\"\n",
    "float_number = float(text_number)\n",
    "tex_number= str(float_number)\n",
    "print(f\"字符串 {text_number} 转换为浮点数: {float_number}, 类型: {type(float_number)}\")\n",
    "print(f\"浮点数 {float_number},转换为字符串：{tex_number},类型：{type(tex_number)}\")"
   ]
  },
  {
   "cell_type": "markdown",
   "metadata": {},
   "source": [
    "# python 用法详解"
   ]
  },
  {
   "cell_type": "markdown",
   "metadata": {},
   "source": [
    "## 列表"
   ]
  },
  {
   "cell_type": "code",
   "execution_count": 67,
   "metadata": {},
   "outputs": [
    {
     "name": "stdout",
     "output_type": "stream",
     "text": [
      "原始特征: ['温度', '湿度', '气压', '阳光']\n"
     ]
    }
   ],
   "source": [
    "# 创建和修改列表\n",
    "features = ['温度', '湿度', '气压','阳光']\n",
    "print(\"原始特征:\", features)"
   ]
  },
  {
   "cell_type": "code",
   "execution_count": 68,
   "metadata": {},
   "outputs": [
    {
     "name": "stdout",
     "output_type": "stream",
     "text": [
      "添加后: ['温度', '湿度', '气压', '阳光', '风速']\n"
     ]
    }
   ],
   "source": [
    "# 添加新特征（在最后）\n",
    "features.append('风速')\n",
    "print(\"添加后:\", features)"
   ]
  },
  {
   "cell_type": "code",
   "execution_count": 69,
   "metadata": {},
   "outputs": [
    {
     "name": "stdout",
     "output_type": "stream",
     "text": [
      "插入后: ['温度', '降水量', '湿度', '气压', '阳光', '风速']\n"
     ]
    }
   ],
   "source": [
    "# 插入特征\n",
    "features.insert(1, '降水量')\n",
    "print(\"插入后:\", features)"
   ]
  },
  {
   "cell_type": "code",
   "execution_count": 74,
   "metadata": {},
   "outputs": [
    {
     "name": "stdout",
     "output_type": "stream",
     "text": [
      "删除后： ['温度']\n",
      "<class 'str'>\n"
     ]
    }
   ],
   "source": [
    "# 删除特征\n",
    "removed = features.pop()  # 删除最后一个元素\n",
    "print(\"删除后：\",features)\n",
    "print(type(removed))"
   ]
  },
  {
   "cell_type": "code",
   "execution_count": 117,
   "metadata": {},
   "outputs": [
    {
     "name": "stdout",
     "output_type": "stream",
     "text": [
      "原始列表: [1, 2, 3, 4]\n",
      "副本: [1, 2, 3]\n"
     ]
    }
   ],
   "source": [
    "# copy方法：创建列表的副本\n",
    "original = [1, 2, 3]\n",
    "copied = original.copy()\n",
    "original.append(4)\n",
    "print(\"原始列表:\", original)    # [1, 2, 3, 4]\n",
    "print(\"副本:\", copied)         # [1, 2, 3]"
   ]
  },
  {
   "cell_type": "code",
   "execution_count": 118,
   "metadata": {},
   "outputs": [
    {
     "name": "stdout",
     "output_type": "stream",
     "text": [
      "删除后: ['湿度', '温度', '气压']\n"
     ]
    }
   ],
   "source": [
    "# remove方法：删除指定元素\n",
    "features = ['温度', '湿度', '温度', '气压']\n",
    "features.remove('温度')  # 只删除第一个匹配项\n",
    "print(\"删除后:\", features)     # ['湿度', '温度', '气压']"
   ]
  },
  {
   "cell_type": "code",
   "execution_count": 119,
   "metadata": {},
   "outputs": [
    {
     "name": "stdout",
     "output_type": "stream",
     "text": [
      "2出现的次数: 3\n"
     ]
    }
   ],
   "source": [
    "# count方法：计算元素出现次数\n",
    "data = [1, 2, 2, 3, 2, 4]\n",
    "count_2 = data.count(2)\n",
    "print(\"2出现的次数:\", count_2)  # 3"
   ]
  },
  {
   "cell_type": "code",
   "execution_count": 120,
   "metadata": {},
   "outputs": [
    {
     "name": "stdout",
     "output_type": "stream",
     "text": [
      "扩展后: [1, 2, 3, 4, 5, 6]\n"
     ]
    }
   ],
   "source": [
    "# extend方法：扩展列表\n",
    "list1 = [1, 2, 3]\n",
    "list2 = [4, 5, 6]\n",
    "list1.extend(list2)\n",
    "print(\"扩展后:\", list1)        # [1, 2, 3, 4, 5, 6]"
   ]
  },
  {
   "cell_type": "code",
   "execution_count": 121,
   "metadata": {},
   "outputs": [
    {
     "name": "stdout",
     "output_type": "stream",
     "text": [
      "蓝第一次出现的位置: 1\n"
     ]
    }
   ],
   "source": [
    "# index方法：查找元素索引\n",
    "colors = ['红', '蓝', '绿', '蓝']\n",
    "blue_index = colors.index('蓝')\n",
    "print(\"蓝第一次出现的位置:\", blue_index)  # 1"
   ]
  },
  {
   "cell_type": "code",
   "execution_count": 122,
   "metadata": {},
   "outputs": [
    {
     "name": "stdout",
     "output_type": "stream",
     "text": [
      "反转后: [5, 4, 3, 2, 1]\n"
     ]
    }
   ],
   "source": [
    "# reverse方法：反转列表\n",
    "numbers = [1, 2, 3, 4, 5]\n",
    "numbers.reverse()\n",
    "print(\"反转后:\", numbers)"
   ]
  },
  {
   "cell_type": "code",
   "execution_count": 123,
   "metadata": {},
   "outputs": [
    {
     "data": {
      "text/plain": [
       "[1, 2, 3, 4, 5]"
      ]
     },
     "execution_count": 123,
     "metadata": {},
     "output_type": "execute_result"
    }
   ],
   "source": [
    "# 之前提及的反转方法\n",
    "numbers[::-1]"
   ]
  },
  {
   "cell_type": "code",
   "execution_count": 124,
   "metadata": {},
   "outputs": [
    {
     "name": "stdout",
     "output_type": "stream",
     "text": [
      "原始数据: [1, 2, 3, 4, 5]\n",
      "平方后: [1, 4, 9, 16, 25]\n"
     ]
    }
   ],
   "source": [
    "# 2. 列表推导式\n",
    "# 生成数据\n",
    "numbers = [1, 2, 3, 4, 5]\n",
    "squares = [x**2 for x in numbers]\n",
    "print(\"原始数据:\", numbers)\n",
    "print(\"平方后:\", squares)"
   ]
  },
  {
   "cell_type": "code",
   "execution_count": 125,
   "metadata": {},
   "outputs": [
    {
     "name": "stdout",
     "output_type": "stream",
     "text": [
      "偶数的平方: [4, 16]\n"
     ]
    }
   ],
   "source": [
    "# 带条件的列表推导式\n",
    "even_squares = [x**2 for x in numbers if x % 2 == 0]\n",
    "print(\"偶数的平方:\", even_squares)"
   ]
  },
  {
   "cell_type": "markdown",
   "metadata": {},
   "source": [
    "元组"
   ]
  },
  {
   "cell_type": "code",
   "execution_count": 126,
   "metadata": {},
   "outputs": [
    {
     "name": "stdout",
     "output_type": "stream",
     "text": [
      "坐标点: (3, 4)\n"
     ]
    }
   ],
   "source": [
    "# 创建元组\n",
    "point = (3, 4)\n",
    "print(\"坐标点:\", point)"
   ]
  },
  {
   "cell_type": "code",
   "execution_count": 127,
   "metadata": {},
   "outputs": [
    {
     "name": "stdout",
     "output_type": "stream",
     "text": [
      "x坐标: 3, y坐标: 4\n"
     ]
    }
   ],
   "source": [
    "# 元组解包\n",
    "x, y = point\n",
    "print(f\"x坐标: {x}, y坐标: {y}\")"
   ]
  },
  {
   "cell_type": "code",
   "execution_count": 128,
   "metadata": {},
   "outputs": [
    {
     "name": "stdout",
     "output_type": "stream",
     "text": [
      "最小值: 10, 最大值: 50, 平均值: 30.0\n"
     ]
    }
   ],
   "source": [
    "def get_stats(numbers):\n",
    "    \"\"\"返回一个数字列表的基本统计量\"\"\"\n",
    "    return min(numbers), max(numbers), sum(numbers)/len(numbers)\n",
    "\n",
    "# 使用元组接收多个返回值\n",
    "data = [10, 20, 30, 40, 50]\n",
    "minimum, maximum, average = get_stats(data)\n",
    "print(f\"最小值: {minimum}, 最大值: {maximum}, 平均值: {average}\")"
   ]
  },
  {
   "cell_type": "markdown",
   "metadata": {},
   "source": [
    "字符串的操作"
   ]
  },
  {
   "cell_type": "code",
   "execution_count": 129,
   "metadata": {},
   "outputs": [
    {
     "name": "stdout",
     "output_type": "stream",
     "text": [
      "去除空白: 数据科学 Python 教程\n"
     ]
    }
   ],
   "source": [
    "# 1. 基本字符串操作\n",
    "text = \"  数据科学 Python 教程  \"\n",
    "\n",
    "# 去除空白\n",
    "cleaned = text.strip()\n",
    "print(\"去除空白:\", cleaned)  # \"数据科学 Python 教程\""
   ]
  },
  {
   "cell_type": "code",
   "execution_count": 130,
   "metadata": {},
   "outputs": [
    {
     "name": "stdout",
     "output_type": "stream",
     "text": [
      "Python的位置: 7\n"
     ]
    }
   ],
   "source": [
    "# 查找子串\n",
    "position = text.find(\"Python\")\n",
    "print(\"Python的位置:\", position)"
   ]
  },
  {
   "cell_type": "code",
   "execution_count": 131,
   "metadata": {},
   "outputs": [
    {
     "name": "stdout",
     "output_type": "stream",
     "text": [
      "是否以.csv结尾: True\n",
      "是否包含数字: True\n",
      "是否为csv文件： 是\n"
     ]
    }
   ],
   "source": [
    "# 判断方法\n",
    "filename = \"data_2024.csv\"\n",
    "print(\"是否以.csv结尾:\", filename.endswith('.csv'))\n",
    "print(\"是否包含数字:\", any(char.isdigit() for char in filename))\n",
    "print(\"是否为csv文件：\",\"是\" if filename.endswith(\".csv\") else \"否\" )"
   ]
  },
  {
   "cell_type": "code",
   "execution_count": 132,
   "metadata": {},
   "outputs": [
    {
     "name": "stdout",
     "output_type": "stream",
     "text": [
      "当前使用的是 Python 3.9 版本\n",
      "处理了 1000 条数据，耗时 5.68 秒\n"
     ]
    }
   ],
   "source": [
    "# 2. 字符串格式化\n",
    "# f-string（推荐）\n",
    "name = \"Python\"\n",
    "version = 3.9\n",
    "print(f\"当前使用的是 {name} {version} 版本\")\n",
    "\n",
    "# format方法\n",
    "template = \"处理了 {} 条数据，耗时 {:.2f} 秒\"\n",
    "print(template.format(1000, 5.6789))"
   ]
  },
  {
   "cell_type": "code",
   "execution_count": 133,
   "metadata": {},
   "outputs": [
    {
     "name": "stdout",
     "output_type": "stream",
     "text": [
      "清洗后的数据: ['12', '14.5', '13.8']\n"
     ]
    }
   ],
   "source": [
    "# 3. 文本处理示例\n",
    "# 数据清洗\n",
    "raw_data = [\"12\", \"N/A\", \"14.5\", \"\", \"13.8\"]\n",
    "cleaned_data = [x.strip() for x in raw_data if x.strip() and x != \"N/A\"]\n",
    "print(\"清洗后的数据:\", cleaned_data)"
   ]
  },
  {
   "cell_type": "code",
   "execution_count": 134,
   "metadata": {},
   "outputs": [
    {
     "name": "stdout",
     "output_type": "stream",
     "text": [
      "分词结果: ['数据科学', '机器学习', '深度学习']\n"
     ]
    }
   ],
   "source": [
    "# 分词示例\n",
    "text = \"数据科学包含机器学习和深度学习\"\n",
    "words = text.replace(\"和\", \" \").replace(\"包含\", \" \").split()\n",
    "print(\"分词结果:\", words)"
   ]
  },
  {
   "cell_type": "code",
   "execution_count": 135,
   "metadata": {},
   "outputs": [
    {
     "name": "stdout",
     "output_type": "stream",
     "text": [
      "姓名: 张三, 年龄: 25, 城市: 北京, 职位: 数据分析师\n"
     ]
    }
   ],
   "source": [
    "# 4. 实际应用：处理CSV数据\n",
    "csv_line = \"张三,25,北京,数据分析师\"\n",
    "# 分割数据\n",
    "fields = csv_line.split(',')\n",
    "# 提取信息\n",
    "name, age, city, job = fields\n",
    "print(f\"姓名: {name}, 年龄: {age}, 城市: {city}, 职位: {job}\")"
   ]
  },
  {
   "cell_type": "code",
   "execution_count": 136,
   "metadata": {},
   "outputs": [
    {
     "name": "stdout",
     "output_type": "stream",
     "text": [
      "发现错误日志: 2024-01-15 10:30:16 ERROR 发现异常值\n"
     ]
    }
   ],
   "source": [
    "# 5. 多行文本处理\n",
    "log_text = \"\"\"\n",
    "2024-01-15 10:30:15 INFO 开始处理数据\n",
    "2024-01-15 10:30:16 ERROR 发现异常值\n",
    "2024-01-15 10:30:17 INFO 异常值已处理\n",
    "\"\"\"\n",
    "# 按行分割并处理\n",
    "for line in log_text.strip().split('\\n'):\n",
    "    if \"ERROR\" in line:\n",
    "        print(\"发现错误日志:\", line.strip())"
   ]
  },
  {
   "cell_type": "code",
   "execution_count": 137,
   "metadata": {},
   "outputs": [
    {
     "name": "stdout",
     "output_type": "stream",
     "text": [
      "处理后的编程语言列表: ['python', 'java', 'c++']\n"
     ]
    }
   ],
   "source": [
    "# 6. 字符串方法链式调用\n",
    "dirty_text = \"  Python,Java,C++  \"\n",
    "clean_languages = dirty_text.strip().lower().replace(\" \", \"\").split(\",\")\n",
    "print(\"处理后的编程语言列表:\", clean_languages)"
   ]
  },
  {
   "cell_type": "markdown",
   "metadata": {},
   "source": [
    "字典操作"
   ]
  },
  {
   "cell_type": "code",
   "execution_count": 3,
   "metadata": {},
   "outputs": [
    {
     "name": "stdout",
     "output_type": "stream",
     "text": [
      "从列表创建的字典: {'name': '张三', 'age': 25, 'city': '北京'}\n",
      "从zip创建的字典: {'身高': 175, '体重': 65, '年龄': 30}\n",
      "从其他字典创建: {'a': 1, 'b': 2}\n",
      "从关键字参数创建: {'learning_rate': 0.01, 'batch_size': 32, 'epochs': 100}\n"
     ]
    }
   ],
   "source": [
    "# 1. 基本字典操作\n",
    "# 创建字典\n",
    "feature_map = {\n",
    "    'temperature': '温度',\n",
    "    'humidity': '湿度',\n",
    "    'pressure': '气压',\n",
    "    'wind_speed': '风速'\n",
    "}\n",
    "\n",
    "# 使用dict()函数创建字典\n",
    "# 1. 从列表的元组创建\n",
    "pairs = [('name', '张三'), ('age', 25), ('city', '北京')]\n",
    "person = dict(pairs)\n",
    "print(\"从列表创建的字典:\", person)  # {'name': '张三', 'age': 25, 'city': '北京'}\n",
    "\n",
    "# 2. 使用zip()创建\n",
    "features = ['身高', '体重', '年龄']\n",
    "values = [175, 65, 30]\n",
    "metrics = dict(zip(features, values))\n",
    "print(\"从zip创建的字典:\", metrics)  # {'身高': 175, '体重': 65, '年龄': 30}\n",
    "\n",
    "# 3. 从其他字典创建\n",
    "original = {'a': 1, 'b': 2}\n",
    "copied = dict(original)\n",
    "print(\"从其他字典创建:\", copied)  # {'a': 1, 'b': 2}\n",
    "\n",
    "# 4. 使用关键字参数\n",
    "params = dict(learning_rate=0.01, batch_size=32, epochs=100)\n",
    "print(\"从关键字参数创建:\", params)  # {'learning_rate': 0.01, 'batch_size': 32, 'epochs': 100}\n"
   ]
  },
  {
   "cell_type": "code",
   "execution_count": 139,
   "metadata": {},
   "outputs": [
    {
     "name": "stdout",
     "output_type": "stream",
     "text": [
      "使用get安全访问: 温度\n",
      "使用get安全访问: None\n"
     ]
    }
   ],
   "source": [
    "# 访问方法\n",
    "print(\"使用get安全访问:\", feature_map.get('temperature'))\n",
    "print(\"使用get安全访问:\", feature_map.get('未知特征'))"
   ]
  },
  {
   "cell_type": "code",
   "execution_count": 140,
   "metadata": {},
   "outputs": [
    {
     "name": "stdout",
     "output_type": "stream",
     "text": [
      "温度\n"
     ]
    }
   ],
   "source": [
    "# 直接访问\n",
    "print(feature_map[\"temperature\"])"
   ]
  },
  {
   "cell_type": "code",
   "execution_count": 141,
   "metadata": {},
   "outputs": [
    {
     "name": "stdout",
     "output_type": "stream",
     "text": [
      "所有键: ['temperature', 'humidity', 'pressure', 'wind_speed']\n",
      "所有值: ['温度', '湿度', '气压', '风速']\n"
     ]
    }
   ],
   "source": [
    "print(\"所有键:\", list(feature_map.keys()))\n",
    "print(\"所有值:\", list(feature_map.values()))"
   ]
  },
  {
   "cell_type": "code",
   "execution_count": 142,
   "metadata": {},
   "outputs": [
    {
     "name": "stdout",
     "output_type": "stream",
     "text": [
      "temperature: 温度\n",
      "humidity: 湿度\n",
      "pressure: 气压\n",
      "wind_speed: 风速\n"
     ]
    }
   ],
   "source": [
    "# 遍历字典\n",
    "for key, value in feature_map.items():\n",
    "    print(f\"{key}: {value}\")"
   ]
  },
  {
   "cell_type": "code",
   "execution_count": 143,
   "metadata": {},
   "outputs": [
    {
     "name": "stdout",
     "output_type": "stream",
     "text": [
      "平方映射: {0: 0, 1: 1, 2: 4, 3: 9, 4: 16}\n",
      "偶数的平方映射: {0: 0, 2: 4, 4: 16, 6: 36, 8: 64}\n"
     ]
    }
   ],
   "source": [
    "# 2. 字典推导式\n",
    "# 创建平方映射\n",
    "squares = {x: x**2 for x in range(5)}\n",
    "print(\"平方映射:\", squares)\n",
    "\n",
    "# 条件字典推导式\n",
    "even_squares = {x: x**2 for x in range(10) if x % 2 == 0}\n",
    "print(\"偶数的平方映射:\", even_squares)"
   ]
  },
  {
   "cell_type": "code",
   "execution_count": 144,
   "metadata": {},
   "outputs": [],
   "source": [
    "# 3. 嵌套字典\n",
    "# 创建数据集配置\n",
    "model_config = {\n",
    "    'data': {\n",
    "        'train_path': './data/train.csv',\n",
    "        'test_path': './data/test.csv',\n",
    "        'features': ['温度', '湿度', '气压']\n",
    "    },\n",
    "    'model': {\n",
    "        'type': 'neural_network',\n",
    "        'layers': [64, 32, 16],\n",
    "        'activation': 'relu'\n",
    "    },\n",
    "    'training': {\n",
    "        'epochs': 100,\n",
    "        'batch_size': 32,\n",
    "        'learning_rate': 0.001\n",
    "    }\n",
    "}\n"
   ]
  },
  {
   "cell_type": "code",
   "execution_count": 145,
   "metadata": {},
   "outputs": [
    {
     "name": "stdout",
     "output_type": "stream",
     "text": [
      "训练特征: ['温度', '湿度', '气压']\n",
      "模型类型: neural_network\n"
     ]
    }
   ],
   "source": [
    "# 访问嵌套值\n",
    "print(\"训练特征:\", model_config['data']['features'])\n",
    "print(\"模型类型:\", model_config['model']['type'])\n"
   ]
  },
  {
   "cell_type": "code",
   "execution_count": 146,
   "metadata": {},
   "outputs": [
    {
     "name": "stdout",
     "output_type": "stream",
     "text": [
      "更新后的配置: {'batch_size': 32, 'epochs': 200, 'learning_rate': 0.01}\n"
     ]
    }
   ],
   "source": [
    "# 字典方法示例\n",
    "# update方法\n",
    "base_config = {'batch_size': 32, 'epochs': 100}\n",
    "new_config = {'learning_rate': 0.01, 'epochs': 200}\n",
    "base_config.update(new_config)\n",
    "print(\"更新后的配置:\", base_config)"
   ]
  },
  {
   "cell_type": "code",
   "execution_count": 147,
   "metadata": {},
   "outputs": [
    {
     "name": "stdout",
     "output_type": "stream",
     "text": [
      "学习率: 0.001\n"
     ]
    }
   ],
   "source": [
    "# setdefault方法（安全地获取或设置值）\n",
    "config = {}\n",
    "learning_rate = config.setdefault('learning_rate', 0.001)\n",
    "print(\"学习率:\", learning_rate)"
   ]
  },
  {
   "cell_type": "code",
   "execution_count": 148,
   "metadata": {},
   "outputs": [
    {
     "name": "stdout",
     "output_type": "stream",
     "text": [
      "删除的值: 32\n",
      "剩余配置: {'epochs': 200, 'learning_rate': 0.01}\n"
     ]
    }
   ],
   "source": [
    "# pop方法（删除并返回值）\n",
    "removed_value = base_config.pop('batch_size')\n",
    "print(\"删除的值:\", removed_value)\n",
    "print(\"剩余配置:\", base_config)"
   ]
  },
  {
   "cell_type": "code",
   "execution_count": 149,
   "metadata": {},
   "outputs": [
    {
     "name": "stdout",
     "output_type": "stream",
     "text": [
      "合并后的字典: {'a': 1, 'b': 2, 'c': 3, 'd': 4}\n"
     ]
    }
   ],
   "source": [
    "# 字典合并（Python 3.9+）\n",
    "dict1 = {'a': 1, 'b': 2}\n",
    "dict2 = {'c': 3, 'd': 4}\n",
    "merged = dict1 | dict2  # 新的字典合并语法\n",
    "print(\"合并后的字典:\", merged)"
   ]
  },
  {
   "cell_type": "code",
   "execution_count": 150,
   "metadata": {},
   "outputs": [
    {
     "name": "stdout",
     "output_type": "stream",
     "text": [
      "分数 85: 良好\n"
     ]
    }
   ],
   "source": [
    "# 1. 条件语句示例\n",
    "# 成绩评估\n",
    "score = 85\n",
    "if score >= 90:\n",
    "    level = \"优秀\"\n",
    "elif score >= 80:\n",
    "    level = \"良好\"\n",
    "elif score >= 60:\n",
    "    level = \"及格\"\n",
    "else:\n",
    "    level = \"不及格\"\n",
    "print(f\"分数 {score}: {level}\")"
   ]
  },
  {
   "cell_type": "code",
   "execution_count": 151,
   "metadata": {},
   "outputs": [
    {
     "name": "stdout",
     "output_type": "stream",
     "text": [
      "这是一个浮点数\n"
     ]
    }
   ],
   "source": [
    "# match-case示例（Python 3.10+）\n",
    "# 数据类型判断\n",
    "data = 12.5\n",
    "match data:\n",
    "    case int():\n",
    "        print(\"这是一个整数\")\n",
    "    case float():\n",
    "        print(\"这是一个浮点数\")\n",
    "    case str():\n",
    "        print(\"这是一个字符串\")\n",
    "    case _:\n",
    "        print(\"其他类型\")"
   ]
  },
  {
   "cell_type": "code",
   "execution_count": 152,
   "metadata": {},
   "outputs": [
    {
     "name": "stdout",
     "output_type": "stream",
     "text": [
      "天气：晴天，建议：适合户外活动\n"
     ]
    }
   ],
   "source": [
    "# 天气状况处理\n",
    "weather = \"晴天\"\n",
    "match weather:\n",
    "    case \"晴天\":\n",
    "        activity = \"适合户外活动\"\n",
    "    case \"阴天\" | \"多云\":\n",
    "        activity = \"可以外出\"\n",
    "    case \"雨天\":\n",
    "        activity = \"建议室内活动\"\n",
    "    case _:\n",
    "        activity = \"未知天气状况\"\n",
    "print(f\"天气：{weather}，建议：{activity}\")"
   ]
  },
  {
   "cell_type": "code",
   "execution_count": 153,
   "metadata": {},
   "outputs": [
    {
     "name": "stdout",
     "output_type": "stream",
     "text": [
      "值 5 是: 异常值\n"
     ]
    }
   ],
   "source": [
    "# 条件表达式（三元运算符）\n",
    "value = 5\n",
    "result = \"正常值\" if abs(value) <= 3 else \"异常值\"\n",
    "print(f\"值 {value} 是: {result}\")"
   ]
  },
  {
   "cell_type": "code",
   "execution_count": 154,
   "metadata": {},
   "outputs": [
    {
     "name": "stdout",
     "output_type": "stream",
     "text": [
      "处理后的数据: [1, 2, 3, 4, 5]\n"
     ]
    }
   ],
   "source": [
    "# 2. for循环示例\n",
    "# 数据处理\n",
    "data = [1, -2, 3, -4, 5]\n",
    "processed = []\n",
    "for value in data:\n",
    "    if value < 0:\n",
    "        processed.append(abs(value))  # 处理负值\n",
    "    else:\n",
    "        processed.append(value)\n",
    "print(\"处理后的数据:\", processed)"
   ]
  },
  {
   "cell_type": "code",
   "execution_count": 155,
   "metadata": {},
   "outputs": [
    {
     "name": "stdout",
     "output_type": "stream",
     "text": [
      "特征 1: 温度\n",
      "特征 2: 湿度\n",
      "特征 3: 气压\n"
     ]
    }
   ],
   "source": [
    "# 使用enumerate\n",
    "features = ['温度', '湿度', '气压']\n",
    "for i, feature in enumerate(features, 1):\n",
    "    print(f\"特征 {i}: {feature}\")"
   ]
  },
  {
   "cell_type": "code",
   "execution_count": 161,
   "metadata": {},
   "outputs": [
    {
     "name": "stdout",
     "output_type": "stream",
     "text": [
      "特征:温度\n",
      "特征:湿度\n",
      "特征:气压\n"
     ]
    }
   ],
   "source": [
    "# 使用range\n",
    "for i in range (0,3):\n",
    "  print(f\"特征:{features[i]}\")"
   ]
  },
  {
   "cell_type": "code",
   "execution_count": 156,
   "metadata": {},
   "outputs": [
    {
     "name": "stdout",
     "output_type": "stream",
     "text": [
      "0°C = 32.0°F\n",
      "1°C = 33.8°F\n",
      "2°C = 35.6°F\n",
      "3°C = 37.4°F\n",
      "4°C = 39.2°F\n",
      "5°C = 41.0°F\n"
     ]
    }
   ],
   "source": [
    "# 3. while循环示例\n",
    "# 温度转换\n",
    "celsius = 0\n",
    "while celsius <= 5:\n",
    "    fahrenheit = (celsius * 9/5) + 32\n",
    "    print(f\"{celsius}°C = {fahrenheit}°F\")\n",
    "    celsius += 1"
   ]
  },
  {
   "cell_type": "code",
   "execution_count": 157,
   "metadata": {},
   "outputs": [
    {
     "name": "stdout",
     "output_type": "stream",
     "text": [
      "清洗后的数据: [1, 2, 3, 4, 5]\n"
     ]
    }
   ],
   "source": [
    "# 4. break和continue示例\n",
    "# 数据过滤\n",
    "data = [1, 2, -999, 3, 4, -999, 5]\n",
    "cleaned = []\n",
    "for value in data:\n",
    "    if value == -999:  # 跳过缺失值\n",
    "        continue\n",
    "    if len(cleaned) >= 5:  # 只取前5个有效值\n",
    "        break\n",
    "    cleaned.append(value)\n",
    "print(\"清洗后的数据:\", cleaned)"
   ]
  },
  {
   "cell_type": "markdown",
   "metadata": {},
   "source": [
    "函数"
   ]
  },
  {
   "cell_type": "code",
   "execution_count": 162,
   "metadata": {},
   "outputs": [],
   "source": [
    "def calculate_statistics(numbers):\n",
    "    \"\"\"\n",
    "    计算数据的基本统计量\n",
    "    \n",
    "    参数:\n",
    "        numbers (list): 数字列表\n",
    "    \n",
    "    返回:\n",
    "        tuple: (平均值, 标准差)\n",
    "    \"\"\"\n",
    "    n = len(numbers)\n",
    "    if n == 0:\n",
    "        return 0, 0\n",
    "    \n",
    "    mean = sum(numbers) / n\n",
    "    variance = sum((x - mean) ** 2 for x in numbers) / n\n",
    "    std = variance ** 0.5\n",
    "    \n",
    "    return mean, std"
   ]
  },
  {
   "cell_type": "code",
   "execution_count": 163,
   "metadata": {},
   "outputs": [
    {
     "name": "stdout",
     "output_type": "stream",
     "text": [
      "平均值: 3.00, 标准差: 1.41\n"
     ]
    }
   ],
   "source": [
    "# 使用函数\n",
    "data = [1, 2, 3, 4, 5]\n",
    "mean, std = calculate_statistics(data)\n",
    "print(f\"平均值: {mean:.2f}, 标准差: {std:.2f}\")"
   ]
  },
  {
   "cell_type": "code",
   "execution_count": 165,
   "metadata": {},
   "outputs": [],
   "source": [
    "# 2. 默认参数和关键字参数\n",
    "def normalize_data(data, method=\"z-score\", scale=1.0):\n",
    "    \"\"\"\n",
    "    数据标准化\n",
    "    \n",
    "    参数:\n",
    "        data (list): 输入数据\n",
    "        method (str): 标准化方法 (\"z-score\" 或 \"min-max\")\n",
    "        scale (float): 缩放因子\n",
    "    \"\"\"\n",
    "    if method == \"z-score\":\n",
    "        mean, std = calculate_statistics(data)\n",
    "        return [(x - mean) / std * scale for x in data]\n",
    "    elif method == \"min-max\":\n",
    "        min_val, max_val = min(data), max(data)\n",
    "        return [(x - min_val) / (max_val - min_val) * scale for x in data]\n"
   ]
  },
  {
   "cell_type": "code",
   "execution_count": 166,
   "metadata": {},
   "outputs": [
    {
     "name": "stdout",
     "output_type": "stream",
     "text": [
      "Z-score标准化: [-1.414213562373095, -0.7071067811865475, 0.0, 0.7071067811865475, 1.414213562373095]\n",
      "Min-max标准化: [0.0, 2.5, 5.0, 7.5, 10.0]\n"
     ]
    }
   ],
   "source": [
    "# 使用不同参数调用函数\n",
    "data = [1, 2, 3, 4, 5]\n",
    "normalized_z = normalize_data(data)\n",
    "normalized_mm = normalize_data(data, method=\"min-max\", scale=10)\n",
    "print(\"Z-score标准化:\", normalized_z)\n",
    "print(\"Min-max标准化:\", normalized_mm)"
   ]
  },
  {
   "cell_type": "code",
   "execution_count": 168,
   "metadata": {},
   "outputs": [
    {
     "name": "stdout",
     "output_type": "stream",
     "text": [
      "组合特征: 温度_25_湿度_60\n"
     ]
    }
   ],
   "source": [
    "# 3. 可变参数\n",
    "def combine_features(*features):\n",
    "    \"\"\"合并多个特征\"\"\"\n",
    "    return \"_\".join(str(f) for f in features)\n",
    "\n",
    "# 使用可变参数\n",
    "result = combine_features(\"温度\", 25, \"湿度\", 60)\n",
    "print(\"组合特征:\", result)"
   ]
  },
  {
   "cell_type": "code",
   "execution_count": 169,
   "metadata": {},
   "outputs": [
    {
     "data": {
      "text/plain": [
       "'1_2_3_4'"
      ]
     },
     "execution_count": 169,
     "metadata": {},
     "output_type": "execute_result"
    }
   ],
   "source": [
    "result = combine_features(1,2,3,4)\n",
    "result"
   ]
  },
  {
   "cell_type": "code",
   "execution_count": 171,
   "metadata": {},
   "outputs": [],
   "source": [
    "# 1. 基本文件读写\n",
    "# 写入文件\n",
    "with open('data.txt', 'w', encoding='utf-8') as f:\n",
    "    f.write(\"温度,湿度,气压\\n\")\n",
    "    f.write(\"25,60,1013\\n\")\n",
    "    f.write(\"26,58,1012\\n\")"
   ]
  },
  {
   "cell_type": "code",
   "execution_count": 172,
   "metadata": {},
   "outputs": [
    {
     "name": "stdout",
     "output_type": "stream",
     "text": [
      "文件内容:\n",
      " 温度,湿度,气压\n",
      "25,60,1013\n",
      "26,58,1012\n",
      "\n"
     ]
    }
   ],
   "source": [
    "# 读取文件\n",
    "with open('data.txt', 'r', encoding='utf-8') as f:\n",
    "    content = f.read()\n",
    "print(\"文件内容:\\n\", content)"
   ]
  },
  {
   "cell_type": "code",
   "execution_count": 173,
   "metadata": {},
   "outputs": [
    {
     "name": "stdout",
     "output_type": "stream",
     "text": [
      "表头: 温度,湿度,气压\n",
      "数据行: 25,60,1013\n",
      "数据行: 26,58,1012\n"
     ]
    }
   ],
   "source": [
    "# 2. 逐行读取\n",
    "with open('data.txt', 'r', encoding='utf-8') as f:\n",
    "    header = f.readline().strip()\n",
    "    print(\"表头:\", header)\n",
    "    for line in f:\n",
    "        print(\"数据行:\", line.strip())"
   ]
  },
  {
   "cell_type": "code",
   "execution_count": 174,
   "metadata": {},
   "outputs": [],
   "source": [
    "# 3. CSV文件处理\n",
    "import csv\n",
    "\n",
    "# 写入CSV文件\n",
    "data = [\n",
    "    ['日期', '温度', '湿度'],\n",
    "    ['2024-01-15', 25, 60],\n",
    "    ['2024-01-16', 26, 58]\n",
    "]\n",
    "\n",
    "with open('weather.csv', 'w', newline='', encoding='utf-8') as f:\n",
    "    writer = csv.writer(f)\n",
    "    writer.writerows(data)"
   ]
  },
  {
   "cell_type": "code",
   "execution_count": 175,
   "metadata": {},
   "outputs": [
    {
     "name": "stdout",
     "output_type": "stream",
     "text": [
      "表头: ['日期', '温度', '湿度']\n",
      "数据: ['2024-01-15', '25', '60']\n",
      "数据: ['2024-01-16', '26', '58']\n"
     ]
    }
   ],
   "source": [
    "# 读取CSV文件\n",
    "with open('weather.csv', 'r', encoding='utf-8') as f:\n",
    "    reader = csv.reader(f)\n",
    "    header = next(reader)  # 读取表头\n",
    "    print(\"表头:\", header)\n",
    "    for row in reader:\n",
    "        print(\"数据:\", row)"
   ]
  },
  {
   "cell_type": "code",
   "execution_count": 176,
   "metadata": {},
   "outputs": [
    {
     "name": "stdout",
     "output_type": "stream",
     "text": [
      "温度数据: [25.0, 26.0]\n"
     ]
    }
   ],
   "source": [
    "# 4. 文件处理最佳实践\n",
    "def process_data_file(filename):\n",
    "    \"\"\"处理数据文件的示例函数\"\"\"\n",
    "    try:\n",
    "        with open(filename, 'r', encoding='utf-8') as f:\n",
    "            # 跳过表头\n",
    "            next(f)\n",
    "            # 处理数据行\n",
    "            data = []\n",
    "            for line in f:\n",
    "                values = line.strip().split(',')\n",
    "                if len(values) >= 2:\n",
    "                    # 提取温度数据\n",
    "                    try:\n",
    "                        temperature = float(values[1])\n",
    "                        data.append(temperature)\n",
    "                    except ValueError:\n",
    "                        print(f\"无效的温度值: {values[1]}\")\n",
    "            return data\n",
    "    except FileNotFoundError:\n",
    "        print(f\"文件不存在: {filename}\")\n",
    "        return []\n",
    "    except Exception as e:\n",
    "        print(f\"处理文件时出错: {e}\")\n",
    "        return []\n",
    "\n",
    "# 使用文件处理函数\n",
    "temperatures = process_data_file('weather.csv')\n",
    "if temperatures:\n",
    "    print(\"温度数据:\", temperatures)"
   ]
  }
 ],
 "metadata": {
  "kernelspec": {
   "display_name": "Python 3 (ipykernel)",
   "language": "python",
   "name": "python3"
  },
  "language_info": {
   "codemirror_mode": {
    "name": "ipython",
    "version": 3
   },
   "file_extension": ".py",
   "mimetype": "text/x-python",
   "name": "python",
   "nbconvert_exporter": "python",
   "pygments_lexer": "ipython3",
   "version": "3.13.0"
  }
 },
 "nbformat": 4,
 "nbformat_minor": 4
}
